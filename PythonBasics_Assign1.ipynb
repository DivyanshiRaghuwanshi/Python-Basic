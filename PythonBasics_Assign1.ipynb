{
  "nbformat": 4,
  "nbformat_minor": 0,
  "metadata": {
    "colab": {
      "provenance": []
    },
    "kernelspec": {
      "name": "python3",
      "display_name": "Python 3"
    },
    "language_info": {
      "name": "python"
    }
  },
  "cells": [
    {
      "cell_type": "markdown",
      "source": [
        "1. What is Python, and why is it popular?\n",
        "    -> Python is a high-level, versatile programming language known for its simple syntax and readability. It is popular because it's easy to learn, supports multiple programming paradigms, has a vast ecosystem of libraries, and is widely used in fields like web development, data science, machine learning, automation, and more.\n",
        "\n",
        "2. What is an interpreter in Python?\n",
        "    -> An interpreter in Python is a program that reads and executes Python code line by line, converting it into machine code at runtime. This makes Python easy to debug and run without the need for prior compilation.\n",
        "\n",
        "3. What are pre-defined keywords in Python?\n",
        "    -> Pre-defined keywords in Python are reserved words that have special meaning and purpose in the language. They are used to define the syntax and structure of Python programs (e.g., if, for, while, class, import etc). These keywords cannot be used as variable names or identifiers.  \n",
        "\n",
        "4. Can keywords be used as variable names?\n",
        "    -> No, keywords in Python cannot be used as variable names. They are reserved for specific language functions and using them as variable names will cause a syntax error.\n",
        "\n",
        "5. What is mutability in Python?\n",
        "    -> Mutability in Python refers to whether an object’s value can be changed after it is created.\n",
        "    Mutable objects:- can be changed in place (like lists, dictionaries, and sets).\n",
        "    Immutable objects:- cannot be changed once created — any modification creates a new object (like strings, tuples, and integers).    \n",
        "\n",
        "6. Why are lists mutable, but tuples are immutable?\n",
        "    -> Lists are mutable because they are designed to allow modifications — you can add, remove, or change elements after the list is created.\n",
        "    Tuples are immutable because they are meant to represent fixed collections of items. Once a tuple is created, its content cannot be changed. This immutability makes tuples faster, memory-efficient, and safe to use as keys in dictionaries or elements in sets.\n",
        "\n",
        "7. What is the difference between “==” and “is” operators in Python?\n",
        "    -> \"==\" checks if the values of two objects are equal.\n",
        "    \"is\" checks if two objects are the same object in memory.   \n",
        "\n",
        "8. What are logical operators in Python?\n",
        "    -> Logical operators in Python are used to combine conditional statements. There are three main logical operators:\n",
        "    and → Returns True if both conditions are True\n",
        "    or → Returns True if at least one condition is True\n",
        "    not → Reverses the result (returns True if the condition is False)\n",
        "\n",
        "9. What is type casting in Python?\n",
        "    ->Type casting in Python means converting a value from one data type to another. This is useful when you need to perform operations between different types.\n",
        "    Common functions for type casting:\n",
        "    int() → converts to integer\n",
        "    float() → converts to float\n",
        "    str() → converts to string\n",
        "    bool() → converts to boolean   \n",
        "\n",
        "10. What is the difference between implicit and explicit type casting?\n",
        "    -> Implicit Type Casting: happens automatically when Python converts one data type to another during an operation.\n",
        "    Explicit Type Casting: is when you manually convert the data type using functions like int(), float(), or str().  \n",
        "\n",
        "11. What is the purpose of conditional statements in Python?\n",
        "    -> Conditional statements in Python, such as if, elif, and else, enable decision-making in programs by executing specific blocks of code based on whether certain conditions evaluate to True or False. This allows for dynamic behavior and control flow, making programs responsive to different inputs or states.\n",
        "\n",
        "12. How does the elif statement work?\n",
        "    -> The elif statement in Python, short for \"else if,\" allows you to check multiple conditions sequentially after an initial if statement. It provides an alternative to chaining multiple if statements, making your code more readable and efficient.\n",
        "\n",
        "13.  What is the difference between for and while loops?\n",
        "    -> In Python, both for and while loops are used to repeat a block of code, but they differ in how and when they execute:\n",
        "    for Loop: Ideal when the number of iterations is known or when iterating over a sequence (like a list, tuple, string, or range).\n",
        "    while Loop: Suitable when the number of iterations is not predetermined, and you want to repeat a block of code as long as a condition remains True.\n",
        "\n",
        "14. Describe a scenario where a while loop is more suitable than a for loop.\n",
        "    -> A while loop is more suitable than a for loop when the number of iterations is not known in advance and depends on a condition evaluated during execution. This makes it ideal for scenarios where you need to repeat an action until a specific condition is met, such as waiting for user input or monitoring a sensor until a threshold is reached."
      ],
      "metadata": {
        "id": "nbeXMgXzKLnR"
      }
    },
    {
      "cell_type": "code",
      "execution_count": null,
      "metadata": {
        "colab": {
          "base_uri": "https://localhost:8080/"
        },
        "id": "V0vGbeaeJ3i6",
        "outputId": "ddf760a5-1f21-46b9-9d2a-f6e33d39984a"
      },
      "outputs": [
        {
          "output_type": "stream",
          "name": "stdout",
          "text": [
            "Hello World!\n"
          ]
        }
      ],
      "source": [
        "# Practical questions:\n",
        "# 1. Write a Python program to print \"Hello, World!\n",
        "\n",
        "print(\"Hello World!\")"
      ]
    },
    {
      "cell_type": "code",
      "source": [
        "# 2. Write a Python program that displays your name and age.\n",
        "\n",
        "name = input(\"Enter your name: \")\n",
        "age = int(input(\"Enter your age: \"))\n",
        "print(\"Your name is\", name, \"and your age is\", age, \"years old\")"
      ],
      "metadata": {
        "colab": {
          "base_uri": "https://localhost:8080/"
        },
        "id": "Dx7QvKobVzyz",
        "outputId": "e4ec24aa-668a-4d21-d6d3-bb4e8bc54fb6"
      },
      "execution_count": null,
      "outputs": [
        {
          "output_type": "stream",
          "name": "stdout",
          "text": [
            "Enter your name: divi\n",
            "Enter your age: 20\n",
            "Your name is divi and your age is 20 years old\n"
          ]
        }
      ]
    },
    {
      "cell_type": "code",
      "source": [
        "# 3. Write code to print all the pre-defined keywords in Python using the keyword library.\n",
        "\n",
        "import keyword\n",
        "print(keyword.kwlist)"
      ],
      "metadata": {
        "colab": {
          "base_uri": "https://localhost:8080/"
        },
        "id": "0TKFsLO2Wagf",
        "outputId": "51b20bd9-1538-4f31-f411-772b389ac808"
      },
      "execution_count": null,
      "outputs": [
        {
          "output_type": "stream",
          "name": "stdout",
          "text": [
            "['False', 'None', 'True', 'and', 'as', 'assert', 'async', 'await', 'break', 'class', 'continue', 'def', 'del', 'elif', 'else', 'except', 'finally', 'for', 'from', 'global', 'if', 'import', 'in', 'is', 'lambda', 'nonlocal', 'not', 'or', 'pass', 'raise', 'return', 'try', 'while', 'with', 'yield']\n"
          ]
        }
      ]
    },
    {
      "cell_type": "code",
      "source": [
        "# 4. Write a program that checks if a given word is a Python keyword.\n",
        "x = input(\"Enter the word: \")\n",
        "if keyword.iskeyword(x):\n",
        "    print(x, \"is a Python keyword\")\n",
        "else:\n",
        "    print(x, \"is not a Python keyword\")"
      ],
      "metadata": {
        "colab": {
          "base_uri": "https://localhost:8080/"
        },
        "id": "8BaaWHHYW5Tc",
        "outputId": "9264ce74-0f85-4d86-cc77-b0c68977b59f"
      },
      "execution_count": null,
      "outputs": [
        {
          "output_type": "stream",
          "name": "stdout",
          "text": [
            "Enter the word: False\n",
            "False is a Python keyword\n"
          ]
        }
      ]
    },
    {
      "cell_type": "code",
      "source": [
        "# 5. Create a list and tuple in Python, and demonstrate how attempting to change an element works differently\n",
        "#    for each.\n",
        "\n",
        "list1 = [1,3,5,7,6]\n",
        "tuple1 = (1,5,9,7,2)\n",
        "list1[4] = 9\n",
        "tuple1[0] = 2  # gives error when executed\n",
        "\n",
        "print(list1)\n",
        "print(tuple1)"
      ],
      "metadata": {
        "colab": {
          "base_uri": "https://localhost:8080/"
        },
        "id": "iPOUQrveXTAr",
        "outputId": "9fd24109-f8a1-4fef-fde2-d6eae4f10ebd"
      },
      "execution_count": null,
      "outputs": [
        {
          "output_type": "stream",
          "name": "stdout",
          "text": [
            "[1, 3, 5, 7, 9]\n",
            "(1, 5, 9, 7, 2)\n"
          ]
        }
      ]
    },
    {
      "cell_type": "code",
      "source": [
        "# 6.  Write a function to demonstrate the behavior of mutable and immutable arguments.\n",
        "\n",
        "def demo(im, mu):\n",
        "    im += 1       # immutable change\n",
        "    mu.append(8)  # mutable change\n",
        "\n",
        "x = 5          # immutable (int)\n",
        "y = [1, 2, 3]    # mutable (list)\n",
        "\n",
        "demo(x, y)\n",
        "\n",
        "print(x)  # unchanged\n",
        "print(y)  # [1, 2, 3, 8] (changed)\n"
      ],
      "metadata": {
        "id": "b-I9pypGYTkV",
        "colab": {
          "base_uri": "https://localhost:8080/"
        },
        "outputId": "c680879a-f7cc-46da-870c-c5e690f54600"
      },
      "execution_count": 5,
      "outputs": [
        {
          "output_type": "stream",
          "name": "stdout",
          "text": [
            "5\n",
            "[1, 2, 3, 8]\n"
          ]
        }
      ]
    },
    {
      "cell_type": "code",
      "source": [
        "# 7. Write a program that performs basic arithmetic operations on two user-input numbers.\n",
        "\n",
        "num1 = int(input(\"Enter the first number: \"))\n",
        "num2 = int(input(\"Enter the second number: \"))\n",
        "sum = num1 +num2\n",
        "diff = num1- num2\n",
        "prod = num1*num2\n",
        "div = num1/num2\n",
        "print(\"The sum of\", num1,\"and \", num2, \"is\", sum)\n",
        "print(\"The difference of\", num1,\"and \", num2, \"is\", diff)\n",
        "print(\"The product of\", num1,\"and \", num2, \"is\", prod)\n",
        "print(\"The division of\", num1,\"and \", num2, \"is\", div)\n"
      ],
      "metadata": {
        "colab": {
          "base_uri": "https://localhost:8080/"
        },
        "id": "SBhw-ffTG-Ge",
        "outputId": "62f3239d-9ff1-4b7d-e73d-ac0c3f4fa67c"
      },
      "execution_count": 6,
      "outputs": [
        {
          "output_type": "stream",
          "name": "stdout",
          "text": [
            "Enter the first number: 16\n",
            "Enter the second number: 2\n",
            "The sum of 16 and  2 is 18\n",
            "The difference of 16 and  2 is 14\n",
            "The product of 16 and  2 is 32\n",
            "The division of 16 and  2 is 8.0\n"
          ]
        }
      ]
    },
    {
      "cell_type": "code",
      "source": [
        "# 8. Write a program to demonstrate the use of logical operators.\n",
        "\n",
        "num1 = int(input(\"Enter the first number: \"))\n",
        "num2 = int(input(\"Enter the second number: \"))\n",
        "if num1 >= 0 and num2 >= 0:\n",
        "    print(\"Both numbers are greater or equal to zero\")\n",
        "elif num1 >= 0 or num2 >= 0:\n",
        "    print(\"At least one number is greater or equal to zero\")\n",
        "else:\n",
        "    print(\"Both numbers are negative\")\n",
        "\n"
      ],
      "metadata": {
        "colab": {
          "base_uri": "https://localhost:8080/"
        },
        "id": "o4Gz_azvIHo_",
        "outputId": "f1349c22-b108-4ea2-97c3-e5006c6a0895"
      },
      "execution_count": 10,
      "outputs": [
        {
          "output_type": "stream",
          "name": "stdout",
          "text": [
            "Enter the first number: -1\n",
            "Enter the second number: 8\n",
            "At least one number is greater or equal to zero\n"
          ]
        }
      ]
    },
    {
      "cell_type": "code",
      "source": [
        "# OR 8. Write a program to demonstrate the use of logical operators.\n",
        "a = True\n",
        "b = False\n",
        "\n",
        "print(\"a and b:\", a and b)   # False\n",
        "print(\"a or b:\", a or b)     # True\n",
        "print(\"not a:\", not a)       # False"
      ],
      "metadata": {
        "colab": {
          "base_uri": "https://localhost:8080/"
        },
        "id": "PIdUoc-vJDhK",
        "outputId": "547739ee-6f98-4d4f-e801-8a896cec56c2"
      },
      "execution_count": 11,
      "outputs": [
        {
          "output_type": "stream",
          "name": "stdout",
          "text": [
            "a and b: False\n",
            "a or b: True\n",
            "not a: False\n"
          ]
        }
      ]
    },
    {
      "cell_type": "code",
      "source": [
        "# 9. Write a Python program to convert user input from string to integer, float, and boolean types.\n",
        "\n",
        "user = input(\"Enter a number: \")\n",
        "user_int = int(user)\n",
        "user_float = float(user)\n",
        "user_bool = bool(user)\n",
        "\n",
        "print(\"inter value for user input is: \", user_int)\n",
        "print(\"float value for user input is: \", user_float)\n",
        "print(\"boolean value for user input is: \", user_bool)\n"
      ],
      "metadata": {
        "colab": {
          "base_uri": "https://localhost:8080/"
        },
        "id": "JhHXtyOuJ_du",
        "outputId": "63894048-c8d7-496f-f8b4-745357a9dad2"
      },
      "execution_count": 14,
      "outputs": [
        {
          "output_type": "stream",
          "name": "stdout",
          "text": [
            "Enter a number: 13\n",
            "inter value for user input is:  13\n",
            "float value for user input is:  13.0\n",
            "boolean value for user input is:  True\n"
          ]
        }
      ]
    },
    {
      "cell_type": "code",
      "source": [
        "# 10.  Write code to demonstrate type casting with list elements.\n",
        "lst_int = [1,3,5,6,7]\n",
        "print(lst_int)\n",
        "lst_str = [str(i) for i in lst_int]\n",
        "print(lst_str)"
      ],
      "metadata": {
        "colab": {
          "base_uri": "https://localhost:8080/"
        },
        "id": "GoBRlcL1KoBS",
        "outputId": "32bba8aa-2491-4d6e-ccf3-f530358deb86"
      },
      "execution_count": 16,
      "outputs": [
        {
          "output_type": "stream",
          "name": "stdout",
          "text": [
            "[1, 3, 5, 6, 7]\n",
            "['1', '3', '5', '6', '7']\n"
          ]
        }
      ]
    },
    {
      "cell_type": "code",
      "source": [
        "# 11. Write a program that checks if a number is positive, negative, or zero.\n",
        "\n",
        "num = int(input(\"Enter the number:\"))\n",
        "if num >0:\n",
        "  print(\"The number is positive\")\n",
        "elif num ==0:\n",
        "  print(\"The number if equal to zero\")\n",
        "else:\n",
        "  print(\"The number is negative\")"
      ],
      "metadata": {
        "colab": {
          "base_uri": "https://localhost:8080/"
        },
        "id": "GtYg2UwYLVGG",
        "outputId": "89aa4b81-6762-4723-c5e3-7e6155f8ed23"
      },
      "execution_count": 18,
      "outputs": [
        {
          "output_type": "stream",
          "name": "stdout",
          "text": [
            "Enter the number:-8\n",
            "The number is negative\n"
          ]
        }
      ]
    },
    {
      "cell_type": "code",
      "source": [
        "# 12. Write a for loop to print numbers from 1 to 10.\n",
        "\n",
        "for i in range (1,11):\n",
        "  print (i)"
      ],
      "metadata": {
        "colab": {
          "base_uri": "https://localhost:8080/"
        },
        "id": "Zsc9ipulMInm",
        "outputId": "74f79c5a-b576-4fb7-d55d-b8fa5bc2595f"
      },
      "execution_count": 19,
      "outputs": [
        {
          "output_type": "stream",
          "name": "stdout",
          "text": [
            "1\n",
            "2\n",
            "3\n",
            "4\n",
            "5\n",
            "6\n",
            "7\n",
            "8\n",
            "9\n",
            "10\n"
          ]
        }
      ]
    },
    {
      "cell_type": "code",
      "source": [
        "# 13. Write a Python program to find the sum of all even numbers between 1 and 50.\n",
        "sum = 0\n",
        "for i in range(0,51):\n",
        "  if (i % 2==0):\n",
        "   sum +=i\n",
        "print(\"The sum of all even numbers between this range is: \",sum)"
      ],
      "metadata": {
        "colab": {
          "base_uri": "https://localhost:8080/"
        },
        "id": "y-SM_kjpMZnu",
        "outputId": "20fe686f-4ba6-4437-ee05-cc6e899b4fb4"
      },
      "execution_count": 25,
      "outputs": [
        {
          "output_type": "stream",
          "name": "stdout",
          "text": [
            "The sum of all even numbers between this range is:  650\n"
          ]
        }
      ]
    },
    {
      "cell_type": "code",
      "source": [
        "# 14. Write a program to reverse a string using a while loop.\n",
        "string1 = \"uttarakhand\"\n",
        "reversed_string = \"\"\n",
        "\n",
        "i = len(string1) - 1\n",
        "while i >= 0:\n",
        "    reversed_string += string1[i]\n",
        "    i -= 1\n",
        "\n",
        "print(\"Original string:\", string1)\n",
        "print(\"Reversed string:\", reversed_string)\n"
      ],
      "metadata": {
        "colab": {
          "base_uri": "https://localhost:8080/"
        },
        "id": "e5o-zVUrM4Df",
        "outputId": "c373b377-25b8-41b8-f35a-3820d0f95b62"
      },
      "execution_count": 29,
      "outputs": [
        {
          "output_type": "stream",
          "name": "stdout",
          "text": [
            "Original string: uttarakhand\n",
            "Reversed string: dnahkarattu\n"
          ]
        }
      ]
    },
    {
      "cell_type": "code",
      "source": [
        "# 15. Write a Python program to calculate the factorial of a number provided by the user using a while loop.\n",
        "\n",
        "num = int(input(\"Enter the number: \"))\n",
        "fact = 1\n",
        "i = num\n",
        "while i>=1:\n",
        "  fact = fact*i\n",
        "  i =i-1\n",
        "\n",
        "\n",
        "print(\"The factorial of the number is: \",fact)"
      ],
      "metadata": {
        "colab": {
          "base_uri": "https://localhost:8080/"
        },
        "id": "C9gxn5aa-4eX",
        "outputId": "15c5c16d-1284-40fd-9629-6aa929d8ec1f"
      },
      "execution_count": 9,
      "outputs": [
        {
          "output_type": "stream",
          "name": "stdout",
          "text": [
            "Enter the number: 4\n",
            "The factorial of the number is:  24\n"
          ]
        }
      ]
    },
    {
      "cell_type": "code",
      "source": [],
      "metadata": {
        "id": "tG5ZXzPP_MyF"
      },
      "execution_count": null,
      "outputs": []
    }
  ]
}